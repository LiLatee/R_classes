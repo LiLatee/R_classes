{
 "cells": [
  {
   "cell_type": "markdown",
   "metadata": {},
   "source": [
    "# Przetwarzanie języka naturalnego w Pythonie\n",
    "\n",
    "Ten notatnik ma na celu przedstawienie podstawowych kroków, które należy wykonać podczas analizy i klasyfikacji tekstów. W trakcie zadania będziemy tworzyć szereg funkcji pomocniczych, które na koniec wykorzystamy do klasyfikacji krótkich dokumentów tekstowych.\n",
    "\n",
    "Po wykonaniu tego zadania powinieneś:\n",
    "+ wiedzieć na czym polega i jak wykonać tokenizację,\n",
    "+ potrafić wykonać podstawowy stemming,\n",
    "+ potrafić analizować najpopularniejsze i narzadsze tokeny w zbiorze dokumentów,\n",
    "+ zdefiniować i usunąć stopwords,\n",
    "+ wiedzieć jak zamienić zbiór dokumentów na reprezentację bag-of-words,\n",
    "+ uruchomić wybrany klasyfikator na przetworzonym zbiorze danych."
   ]
  },
  {
   "cell_type": "markdown",
   "metadata": {},
   "source": [
    "## Przygotowanie\n",
    "\n",
    "Na początek trochę bibliotek i przydatnych wyrażeń regularnych:"
   ]
  },
  {
   "cell_type": "code",
   "execution_count": 481,
   "metadata": {},
   "outputs": [],
   "source": [
    "import re\n",
    "import pandas as pd\n",
    "import nltk\n",
    "\n",
    "RE_SPACES = re.compile(\"\\s+\")\n",
    "RE_HASHTAG = re.compile(\"[@#][_a-z0-9]+\")\n",
    "RE_EMOTICONS = re.compile(\"(:-?\\))|(:p)|(:d+)|(:-?\\()|(:/)|(;-?\\))|(<3)|(=\\))|(\\)-?:)|(:'\\()|(8\\))\")\n",
    "RE_HTTP = re.compile(\"http(s)?://[/\\.a-z0-9]+\")"
   ]
  },
  {
   "cell_type": "markdown",
   "metadata": {},
   "source": [
    "Biblioteka [re](https://docs.python.org/2/library/re.html) pozwala definiować wyrażenia regularne, [pandas](http://pandas.pydata.org/) już znasz z ostatnich zajęć, a [nltk](http://www.nltk.org/) to podstawowa biblioteka do przetwarzania języka naturalnego w pythonie. `nltk` to spory zestaw modułów, który domyślnie nie jest instalowany w całości. Aby doinstalować wybrane moduły możesz w interaktywnej konsoli pythona wpisać:\n",
    "\n",
    "`import nltk\n",
    "nltk.download()`\n",
    "\n",
    "Następnie w odpowiednich zakładkach wybrać interesujące moduły. W ramach tego ćwiczenia będziemy wykorzystywać moduł **`punkt`** z zakładki Modules, ale proszę zwrócić uwagę na interesujące korpusy i leksykony, takie jak np. `opinion_lexicon` czy `sentiwordnet`.\n",
    "\n",
    "Przyda nam się też zbiór danych do testowania kodu.\n",
    "\n",
    "**Zad. 1: Wczytaj zbiór danych `tweets_train.tsv` do zmiennej `tweets`. Pomiń nagłówek i pozostaw tylko ostatnią kolumnę. Wyświetl pierwsze 6 wierszy, żeby upewnić się, że każdy przykład składa się tylko z tekstu.**"
   ]
  },
  {
   "cell_type": "code",
   "execution_count": 482,
   "metadata": {
    "collapsed": false,
    "jupyter": {
     "outputs_hidden": false
    }
   },
   "outputs": [
    {
     "data": {
      "text/plain": [
       "0    dear @Microsoft the newOoffice for Mac is grea...\n",
       "1    @Microsoft how about you make a system that do...\n",
       "2                                        Not Available\n",
       "3                                        Not Available\n",
       "4    If I make a game as a #windows10 Universal App...\n",
       "5    Microsoft, I may not prefer your gaming branch...\n",
       "Name: 2, dtype: object"
      ]
     },
     "execution_count": 482,
     "metadata": {},
     "output_type": "execute_result"
    }
   ],
   "source": [
    "tweets = pd.read_csv(\"./tweets_train.tsv\", sep='\\t', header=None)[2]\n",
    "tweets.head(6)"
   ]
  },
  {
   "cell_type": "markdown",
   "metadata": {},
   "source": [
    "## Tokenizacja i stemming\n",
    "\n",
    "Żeby uporządkować trochę kod i kolejne kroki, wprowadźmy klasę Tokenizer i BeforeTokenizationNormalizer. Pierwsza będzie służyć jako klasa bazowa dla tworzonych przez tokenizatorów a druga zamieni encje html na poprawne znaki tekstowe."
   ]
  },
  {
   "cell_type": "code",
   "execution_count": 483,
   "metadata": {
    "collapsed": false,
    "jupyter": {
     "outputs_hidden": false
    }
   },
   "outputs": [],
   "source": [
    "class Tokenizer():\n",
    "    @staticmethod\n",
    "    def tokenize(text):\n",
    "        pass\n",
    "    \n",
    "class BeforeTokenizationNormalizer():\n",
    "    @staticmethod\n",
    "    def normalize(text):\n",
    "        text = text.strip().lower()\n",
    "        text = text.replace('&nbsp;', ' ')\n",
    "        text = text.replace('&lt;', '<')\n",
    "        text = text.replace('&gt;', '>')\n",
    "        text = text.replace('&amp;', '&')\n",
    "        text = text.replace('&pound;', u'£')\n",
    "        text = text.replace('&euro;', u'€')\n",
    "        text = text.replace('&copy;', u'©')\n",
    "        text = text.replace('&reg;', u'®')\n",
    "        return text"
   ]
  },
  {
   "cell_type": "markdown",
   "metadata": {},
   "source": [
    "Aby sprawdzić czy wszystko działa - odkomentuj poniższy kod:"
   ]
  },
  {
   "cell_type": "code",
   "execution_count": 484,
   "metadata": {
    "scrolled": true
   },
   "outputs": [
    {
     "name": "stdout",
     "output_type": "stream",
     "text": [
      "dear @microsoft the newooffice for mac is great and all, but no lync update? c'mon.\n",
      "@microsoft how about you make a system that doesn't eat my friggin discs. this is the 2nd time this has happened and i am so sick of it!\n",
      "not available\n",
      "not available\n",
      "if i make a game as a #windows10 universal app. will #xboxone owners be able to download and play it in november? @majornelson @microsoft\n",
      "microsoft, i may not prefer your gaming branch of business. but, you do make a damn fine operating system. #windows10 @microsoft\n",
      "@mikewolf1980 @microsoft i will be downgrading and let #windows10 be out for almost the 1st yr b4 trying it again. #windows10fail\n",
      "@microsoft 2nd computer with same error!!! #windows10fail guess we will shelve this until sp1! http://t.co/qcchlkuy8q\n",
      "just ordered my 1st ever tablet; @microsoft surface pro 3, i7/8gb 512gb ssd. hopefully it works out for dev to replace my laptop =)\n",
      "after attempting a reinstall, it still bricks, says, \"windows cannot finish installing,\" or somesuch. @microsoft may have cost me $600.\n"
     ]
    }
   ],
   "source": [
    "print_number_of_tweets = 10\n",
    "for id, i in enumerate(tweets.index):\n",
    "    tweet = BeforeTokenizationNormalizer.normalize(tweets.iat[i])\n",
    "    print(tweet)\n",
    "    if id == print_number_of_tweets-1:\n",
    "        break"
   ]
  },
  {
   "cell_type": "markdown",
   "metadata": {},
   "source": [
    "W kolejnych krokach będziesz implementował coraz bardziej wyrafinowane tokenizatory. Zacznijmy od czegoś w miarę intuicyjnego.\n",
    "\n",
    "**Zad. 2: Napisz tokenizator, który dzieli słowa według spacji. Tokenizator powinien przyjmować tekst (pojedynczego stringa) i zamieniać go na listę słów. Przetestuj kod za pomocą zakomentowanej pętli.**"
   ]
  },
  {
   "cell_type": "code",
   "execution_count": 485,
   "metadata": {
    "collapsed": false,
    "jupyter": {
     "outputs_hidden": false
    }
   },
   "outputs": [],
   "source": [
    "class SimpleTokenizer(Tokenizer):\n",
    "    @staticmethod\n",
    "    def tokenize(text):\n",
    "        # Można w tym celu wykorzystać wyrażenie RE_SPACES. Jakie wady ma takie podejście? Jak reaguje na znaki\n",
    "        # interpunkcyjne? Jeśli usuniesz interpunkcje, co się dzieje ze skrótowcami? Jak obsłużyć słowa can't, o'clock,\n",
    "        # we'd itp.?\n",
    "        return re.split(RE_SPACES, text)"
   ]
  },
  {
   "cell_type": "markdown",
   "metadata": {},
   "source": [
    "<b>Jakie wady ma takie podejście? Jak reaguje na znaki interpunkcyjne? Jeśli usuniesz interpunkcje, co się dzieje ze skrótowcami? Jak obsłużyć słowa can't, o'clock, we'd itp.?</b><br>\n",
    "Łączy znaki interpunkcyjne ze słowami np. \"update?\".<br>\n",
    "Jeśli zamienimy znaki interpunkcyjne na znak biały to otrzymamy: \"can't\" --> \"can t\" --> [\"can\", \"t\"].<br>\n",
    "Jeżeli zamiast wstawiania znaku białego po protu usuniemy znak to utworzy jedno słowo \"can't\" --> \"cant\" --> [\"cant\"].<br>\n",
    "Lepiej byłoby to rozdzielić na dwa słowa [\"can\", \"not\"]."
   ]
  },
  {
   "cell_type": "code",
   "execution_count": 486,
   "metadata": {
    "scrolled": true
   },
   "outputs": [
    {
     "name": "stdout",
     "output_type": "stream",
     "text": [
      "['dear', '@microsoft', 'the', 'newooffice', 'for', 'mac', 'is', 'great', 'and', 'all,', 'but', 'no', 'lync', 'update?', \"c'mon.\"]\n",
      "['@microsoft', 'how', 'about', 'you', 'make', 'a', 'system', 'that', \"doesn't\", 'eat', 'my', 'friggin', 'discs.', 'this', 'is', 'the', '2nd', 'time', 'this', 'has', 'happened', 'and', 'i', 'am', 'so', 'sick', 'of', 'it!']\n",
      "['not', 'available']\n",
      "['not', 'available']\n",
      "['if', 'i', 'make', 'a', 'game', 'as', 'a', '#windows10', 'universal', 'app.', 'will', '#xboxone', 'owners', 'be', 'able', 'to', 'download', 'and', 'play', 'it', 'in', 'november?', '@majornelson', '@microsoft']\n",
      "['microsoft,', 'i', 'may', 'not', 'prefer', 'your', 'gaming', 'branch', 'of', 'business.', 'but,', 'you', 'do', 'make', 'a', 'damn', 'fine', 'operating', 'system.', '#windows10', '@microsoft']\n",
      "['@mikewolf1980', '@microsoft', 'i', 'will', 'be', 'downgrading', 'and', 'let', '#windows10', 'be', 'out', 'for', 'almost', 'the', '1st', 'yr', 'b4', 'trying', 'it', 'again.', '#windows10fail']\n",
      "['@microsoft', '2nd', 'computer', 'with', 'same', 'error!!!', '#windows10fail', 'guess', 'we', 'will', 'shelve', 'this', 'until', 'sp1!', 'http://t.co/qcchlkuy8q']\n",
      "['just', 'ordered', 'my', '1st', 'ever', 'tablet;', '@microsoft', 'surface', 'pro', '3,', 'i7/8gb', '512gb', 'ssd.', 'hopefully', 'it', 'works', 'out', 'for', 'dev', 'to', 'replace', 'my', 'laptop', '=)']\n",
      "['after', 'attempting', 'a', 'reinstall,', 'it', 'still', 'bricks,', 'says,', '\"windows', 'cannot', 'finish', 'installing,\"', 'or', 'somesuch.', '@microsoft', 'may', 'have', 'cost', 'me', '$600.']\n"
     ]
    }
   ],
   "source": [
    "for id, i in enumerate(tweets.index):\n",
    "    tweet = BeforeTokenizationNormalizer.normalize(tweets.iat[i])\n",
    "    words_simple = SimpleTokenizer.tokenize(tweet)\n",
    "    print(words_simple)\n",
    "    if id == print_number_of_tweets-1:\n",
    "        break"
   ]
  },
  {
   "cell_type": "markdown",
   "metadata": {},
   "source": [
    "**Zad. 3: Napisz tokenizator korzystający z funkcji word_tokenize() z biblioteki NLTK.**"
   ]
  },
  {
   "cell_type": "code",
   "execution_count": 487,
   "metadata": {
    "collapsed": false,
    "jupyter": {
     "outputs_hidden": false
    }
   },
   "outputs": [
    {
     "name": "stderr",
     "output_type": "stream",
     "text": [
      "[nltk_data] Downloading package punkt to /home/lilatee/nltk_data...\n",
      "[nltk_data]   Package punkt is already up-to-date!\n"
     ]
    }
   ],
   "source": [
    "nltk.download(\"punkt\")\n",
    "class NltkTokenizer(Tokenizer):\n",
    "    @staticmethod\n",
    "    def tokenize(text):\n",
    "        # Napisz tokenizator korzystający z funkcji word_tokenize() z biblioteki NLTK.\n",
    "        # Czy w przypadku tweetów wszystkie słowa zostały poprawnie rozdzielone?\n",
    "        return nltk.word_tokenize(text)"
   ]
  },
  {
   "cell_type": "markdown",
   "metadata": {},
   "source": [
    "<b>Czy w przypadku tweetów wszystkie słowa zostały poprawnie rozdzielone?</b><br>\n",
    "Zachowuje się lepiej. Słowo \"doesn't\" rozdzieliło na dwa słowa [\"does\", \"n't\"], a także oddziela słowa od interpunkcji."
   ]
  },
  {
   "cell_type": "code",
   "execution_count": 488,
   "metadata": {
    "scrolled": true
   },
   "outputs": [
    {
     "name": "stdout",
     "output_type": "stream",
     "text": [
      "['dear', '@', 'microsoft', 'the', 'newooffice', 'for', 'mac', 'is', 'great', 'and', 'all', ',', 'but', 'no', 'lync', 'update', '?', \"c'mon\", '.']\n",
      "['@', 'microsoft', 'how', 'about', 'you', 'make', 'a', 'system', 'that', 'does', \"n't\", 'eat', 'my', 'friggin', 'discs', '.', 'this', 'is', 'the', '2nd', 'time', 'this', 'has', 'happened', 'and', 'i', 'am', 'so', 'sick', 'of', 'it', '!']\n",
      "['not', 'available']\n",
      "['not', 'available']\n",
      "['if', 'i', 'make', 'a', 'game', 'as', 'a', '#', 'windows10', 'universal', 'app', '.', 'will', '#', 'xboxone', 'owners', 'be', 'able', 'to', 'download', 'and', 'play', 'it', 'in', 'november', '?', '@', 'majornelson', '@', 'microsoft']\n",
      "['microsoft', ',', 'i', 'may', 'not', 'prefer', 'your', 'gaming', 'branch', 'of', 'business', '.', 'but', ',', 'you', 'do', 'make', 'a', 'damn', 'fine', 'operating', 'system', '.', '#', 'windows10', '@', 'microsoft']\n",
      "['@', 'mikewolf1980', '@', 'microsoft', 'i', 'will', 'be', 'downgrading', 'and', 'let', '#', 'windows10', 'be', 'out', 'for', 'almost', 'the', '1st', 'yr', 'b4', 'trying', 'it', 'again', '.', '#', 'windows10fail']\n",
      "['@', 'microsoft', '2nd', 'computer', 'with', 'same', 'error', '!', '!', '!', '#', 'windows10fail', 'guess', 'we', 'will', 'shelve', 'this', 'until', 'sp1', '!', 'http', ':', '//t.co/qcchlkuy8q']\n",
      "['just', 'ordered', 'my', '1st', 'ever', 'tablet', ';', '@', 'microsoft', 'surface', 'pro', '3', ',', 'i7/8gb', '512gb', 'ssd', '.', 'hopefully', 'it', 'works', 'out', 'for', 'dev', 'to', 'replace', 'my', 'laptop', '=', ')']\n",
      "['after', 'attempting', 'a', 'reinstall', ',', 'it', 'still', 'bricks', ',', 'says', ',', '``', 'windows', 'can', 'not', 'finish', 'installing', ',', \"''\", 'or', 'somesuch', '.', '@', 'microsoft', 'may', 'have', 'cost', 'me', '$', '600', '.']\n"
     ]
    }
   ],
   "source": [
    "for id, i in enumerate(tweets.index):\n",
    "    tweet = BeforeTokenizationNormalizer.normalize(tweets.iat[i])\n",
    "    words_nltk = NltkTokenizer.tokenize(tweet)\n",
    "    print(words_nltk)\n",
    "    if id == print_number_of_tweets-1:\n",
    "        break"
   ]
  },
  {
   "cell_type": "markdown",
   "metadata": {},
   "source": [
    "**Zad. 4: Napisz tokenizator, który oprócz standardowych słów obsłuży emitikony i hashtagi. Następnie wykonaj stemming (porter = nltk.PorterStemmer() porter.stem()).**"
   ]
  },
  {
   "cell_type": "code",
   "execution_count": 489,
   "metadata": {},
   "outputs": [],
   "source": [
    "# Klasa została zmieniona, ponieważ wcześniejsza wersja nie działał prawidłowo. Nie zawsze przechodziła przez każdy token.\n",
    "class TweetTokenizer(Tokenizer):\n",
    "    @staticmethod\n",
    "    def tokenize(text):\n",
    "        tokens = SimpleTokenizer.tokenize(text)\n",
    "        i = 0\n",
    "        result_tokens = []\n",
    "        for token in tokens:\n",
    "            # sprawdź czy w ramach tokena występuje emotikona, hashtag lub link\n",
    "            match_hash_or_emo = (re.match(RE_HASHTAG, token) or re.match(RE_EMOTICONS, token))\n",
    "            match_link = re.match(RE_HTTP, token)\n",
    "            # wydziel emotikonę lub hashtag jako token a resztę tekstu rozpatrz ponownie\n",
    "            if match_link is not None:\n",
    "                continue\n",
    "            elif match_hash_or_emo is not None:\n",
    "                result_tokens.append(token)\n",
    "            else:\n",
    "                result_tokens = result_tokens + NltkTokenizer.tokenize(token)\n",
    "            \n",
    "        # stwórz stemmer i w pętli stemmuj wszystkie tokeny\n",
    "        porter = nltk.PorterStemmer()\n",
    "        result_tokens = [porter.stem(token) for token in result_tokens]\n",
    "        return result_tokens"
   ]
  },
  {
   "cell_type": "code",
   "execution_count": 490,
   "metadata": {
    "scrolled": true
   },
   "outputs": [
    {
     "name": "stdout",
     "output_type": "stream",
     "text": [
      "['dear', '@microsoft', 'the', 'newooffic', 'for', 'mac', 'is', 'great', 'and', 'all', ',', 'but', 'no', 'lync', 'updat', '?', \"c'mon\", '.']\n",
      "['@microsoft', 'how', 'about', 'you', 'make', 'a', 'system', 'that', 'doe', \"n't\", 'eat', 'my', 'friggin', 'disc', '.', 'thi', 'is', 'the', '2nd', 'time', 'thi', 'ha', 'happen', 'and', 'i', 'am', 'so', 'sick', 'of', 'it', '!']\n",
      "['not', 'avail']\n",
      "['not', 'avail']\n",
      "['if', 'i', 'make', 'a', 'game', 'as', 'a', '#windows10', 'univers', 'app', '.', 'will', '#xboxon', 'owner', 'be', 'abl', 'to', 'download', 'and', 'play', 'it', 'in', 'novemb', '?', '@majornelson', '@microsoft']\n",
      "['microsoft', ',', 'i', 'may', 'not', 'prefer', 'your', 'game', 'branch', 'of', 'busi', '.', 'but', ',', 'you', 'do', 'make', 'a', 'damn', 'fine', 'oper', 'system', '.', '#windows10', '@microsoft']\n",
      "['@mikewolf1980', '@microsoft', 'i', 'will', 'be', 'downgrad', 'and', 'let', '#windows10', 'be', 'out', 'for', 'almost', 'the', '1st', 'yr', 'b4', 'tri', 'it', 'again', '.', '#windows10fail']\n",
      "['@microsoft', '2nd', 'comput', 'with', 'same', 'error', '!', '!', '!', '#windows10fail', 'guess', 'we', 'will', 'shelv', 'thi', 'until', 'sp1', '!']\n",
      "['just', 'order', 'my', '1st', 'ever', 'tablet', ';', '@microsoft', 'surfac', 'pro', '3', ',', 'i7/8gb', '512gb', 'ssd', '.', 'hope', 'it', 'work', 'out', 'for', 'dev', 'to', 'replac', 'my', 'laptop', '=)']\n",
      "['after', 'attempt', 'a', 'reinstal', ',', 'it', 'still', 'brick', ',', 'say', ',', '``', 'window', 'can', 'not', 'finish', 'instal', ',', \"''\", 'or', 'somesuch', '.', '@microsoft', 'may', 'have', 'cost', 'me', '$', '600', '.']\n"
     ]
    }
   ],
   "source": [
    "for id, i in enumerate(tweets.index):\n",
    "    tweet = BeforeTokenizationNormalizer.normalize(tweets.iat[i])\n",
    "    words_tweet = TweetTokenizer.tokenize(tweet)\n",
    "    print(words_tweet)\n",
    "    if id == print_number_of_tweets-1:\n",
    "        break"
   ]
  },
  {
   "cell_type": "markdown",
   "metadata": {},
   "source": [
    "W wielu zastosowaniach dobrze działa lematyzacja, która również jest dostępna w `nltk`. W tym ćwiczeniu pozostaniemy jednak przy stemmingu."
   ]
  },
  {
   "cell_type": "markdown",
   "metadata": {},
   "source": [
    "## Stopwords"
   ]
  },
  {
   "cell_type": "markdown",
   "metadata": {},
   "source": [
    "W tej części przeanalizujemy częstość występowania różnych słów w korpusie. Interesują nas słowa występujące najczęściej i najrzadziej. Ich analiza pozwoli określić jakie słowa powinny zostać pominięte podczas analizy a jakie powinny zostać połączone w grupy znaczeniowe.\n",
    "\n",
    "W tym celu przyda nam się jakaś struktura danych do zliczania słów oraz funkcja do rysowania histogramów."
   ]
  },
  {
   "cell_type": "code",
   "execution_count": 491,
   "metadata": {
    "collapsed": false,
    "jupyter": {
     "outputs_hidden": false
    }
   },
   "outputs": [],
   "source": [
    "%matplotlib inline\n",
    "import seaborn as sns\n",
    "import matplotlib.pyplot as plt\n",
    "from collections import Counter\n",
    "\n",
    "sns.set(style=\"whitegrid\")\n",
    "sns.set_color_codes(\"muted\")\n",
    "\n",
    "def show_histogram(word_counts, title=None):\n",
    "    plot_df = pd.DataFrame.from_dict(word_counts).rename(columns={0:'Token', 1:'Count'})\n",
    "    \n",
    "    f, ax = plt.subplots(figsize=(12, 15))\n",
    "    p = sns.barplot(x=\"Count\", y=\"Token\", data=plot_df, color=\"b\")\n",
    "    p.set(xlabel=\"Count\", ylabel=\"\", title=title)"
   ]
  },
  {
   "cell_type": "markdown",
   "metadata": {},
   "source": [
    "Zacznijmy od zliczenia unikatowych słów. Pomoże nam w tym klasa [Counter](https://docs.python.org/2/library/collections.html#collections.Counter). Poniższy kod wypełnia kolekcję słowami po tokenizacji i stemmingu."
   ]
  },
  {
   "cell_type": "code",
   "execution_count": 492,
   "metadata": {
    "collapsed": false,
    "jupyter": {
     "outputs_hidden": false
    }
   },
   "outputs": [],
   "source": [
    "words = Counter()\n",
    "\n",
    "for i in tweets.index:\n",
    "    tweet = BeforeTokenizationNormalizer.normalize(tweets.iat[i])\n",
    "    words.update(TweetTokenizer.tokenize(tweet))"
   ]
  },
  {
   "cell_type": "markdown",
   "metadata": {},
   "source": [
    "**Zad. 5: Wypisz, zwizualizuj i przeanalizuj 50 najczęściej występujących słów. Czy wszystkie wyświetlone tokeny będą przydatne w dalszej analizie? Czy wszystkie tokeny to słowa?**"
   ]
  },
  {
   "cell_type": "code",
   "execution_count": 493,
   "metadata": {
    "collapsed": false,
    "jupyter": {
     "outputs_hidden": false
    }
   },
   "outputs": [
    {
     "data": {
      "image/png": "[encoded data removed]",
      "text/plain": [
       "<Figure size 864x1080 with 1 Axes>"
      ]
     },
     "metadata": {},
     "output_type": "display_data"
    }
   ],
   "source": [
    "show_histogram(words.most_common(50))"
   ]
  },
  {
   "cell_type": "markdown",
   "metadata": {},
   "source": [
    "Widać, że nie wszystkie tokeny to słowa. Ponieważ budujemy słownik słów, które będą wykorzystywane do klasyfikacji tekstów, usuńmy podstawowe tokeny, które nie niosą żadnej informacji.\n",
    "\n",
    "**Zad. 6: Usuń znaki interpunkcyjne z kolekcji words i powtórz analizę. Czy w przypadku badania opinii trzeba wyrzucić wszystkie znaki interpunkcyjne?**<br>\n",
    "Niektóre znaki interpunkcyjne mogłyby być przydatne jak np. słowa łączone myślnikiem \"self-contained\"."
   ]
  },
  {
   "cell_type": "code",
   "execution_count": 494,
   "metadata": {},
   "outputs": [
    {
     "data": {
      "image/png": "[encoded data removed]",
      "text/plain": [
       "<Figure size 864x1080 with 1 Axes>"
      ]
     },
     "metadata": {},
     "output_type": "display_data"
    }
   ],
   "source": [
    "RE_PUNC = re.compile(\"^[\" + string.punctuation + \"]+$\")\n",
    "for key in list(words.keys()):\n",
    "    if re.match(RE_PUNC, key):\n",
    "        del words[key]\n",
    "show_histogram(words.most_common(50))"
   ]
  },
  {
   "cell_type": "markdown",
   "metadata": {},
   "source": [
    "Wyraźnie widać, że nawet bez znaków intepunkcyjnych pozostało dużo zbędnych tokenów. Poniżej lista słów, które często są oznaczane jako tzw. stopwords, czyli słowa występujące często a nie niosące informacji."
   ]
  },
  {
   "cell_type": "code",
   "execution_count": 495,
   "metadata": {},
   "outputs": [],
   "source": [
    "stopwords = [\"a\", \"about\", \"after\", \"all\", \"am\", \"an\", \"and\", \"any\", \"are\", \"as\", \"at\", \"be\", \"because\", \"been\",\n",
    "            \"before\", \"being\", \"between\", \"both\", \"by\", \"could\", \"did\", \"do\", \"does\", \"doing\", \"during\", \"each\",\n",
    "            \"for\", \"from\", \"further\", \"had\", \"has\", \"have\", \"having\", \"he\", \"her\", \"here\", \"hers\", \"herself\", \"him\",\n",
    "            \"himself\", \"his\", \"how\", \"i\", \"in\", \"into\", \"is\", \"it\", \"its\", \"itself\", \"let\", \"me\", \"more\", \"most\", \"my\",\n",
    "            \"myself\", \"of\", \"on\", \"once\", \"only\", \"or\", \"other\", \"ought\", \"our\", \"ours\", \"ourselves\", \"own\", \"sha\",\n",
    "            \"she\", \"should\", \"so\", \"some\", \"such\", \"than\", \"that\", \"the\", \"their\", \"theirs\", \"them\", \"themselves\",\n",
    "            \"then\", \"there\", \"there's\", \"these\", \"they\", \"this\", \"those\", \"through\", \"to\", \"until\", \"up\", \"very\",\n",
    "            \"was\", \"we\", \"were\", \"what\", \"when\", \"where\", \"which\", \"while\", \"who\",\"whom\", \"with\", \"would\", \"you\",\n",
    "            \"your\", \"yours\", \"yourself\", \"yourselves\",\n",
    "            \"n't\", \"'s\", \"'ll\", \"'re\", \"'d\", \"'m\", \"'ve\",\n",
    "            \"above\", \"again\", \"against\", \"below\", \"but\", \"cannot\", \"down\", \"few\", \"if\", \"no\", \"nor\", \"not\", \"off\",\n",
    "            \"out\", \"over\", \"same\", \"too\", \"under\", \"why\"]"
   ]
  },
  {
   "cell_type": "markdown",
   "metadata": {},
   "source": [
    "**Zad. 7: Korzystając z listy `sotpwords` usuń z kolekcji `words` popularne stopwords i ponów analizę. Czy wszystkie stopwords zawsze należy wyrzucać? Czy słowa takie jak \"not\" mogą być nośnikiem opinii? Jeśli masz jeszcze dużo czasu, możesz przeanalizować listę słów w nltk.corpus.stopwords.words('english')?**\n",
    "\n",
    "Stopwords niosące zaprzeczenia jak \"not\" mogą być nośnikiem informacji. Usuwając słowo \"not\" ze zdania \"I do not like...\" otrzymamy zupełnie inne znaczenie."
   ]
  },
  {
   "cell_type": "code",
   "execution_count": 496,
   "metadata": {},
   "outputs": [
    {
     "data": {
      "image/png": "[encoded data removed]",
      "text/plain": [
       "<Figure size 864x1080 with 1 Axes>"
      ]
     },
     "metadata": {},
     "output_type": "display_data"
    }
   ],
   "source": [
    "RE_PUNC = re.compile(\"[\" + string.punctuation + \"]+\")\n",
    "for key in list(words.keys()):\n",
    "    if key in stopwords:\n",
    "        del words[key]\n",
    "show_histogram(words.most_common(50))"
   ]
  },
  {
   "cell_type": "markdown",
   "metadata": {},
   "source": [
    "Oprócz tokenów, które występują zbyt często, problemem bywają również najrzadsze tokeny."
   ]
  },
  {
   "cell_type": "markdown",
   "metadata": {},
   "source": [
    "**Zad. 8: Przeanalizuj 100 listę najrzadszych tokenów. Czy wszystkie tokeny są rzeczywiście rzadkie? Czy jakieś typy tokenów powtarzają się? Jak myślisz, co najlepiej zrobić z takimi tokenami jak 1, 2, 3... 10%, 20%, 30%..., 12:00, 19:50, 22:30, ..., 2005, 2010, 1995..., 10\\$, 20\\$, 30\\$... ?**<br>\n",
    "Wszystkie 100 najrzadszych tokenów występuje jednokrotnie. <br>\n",
    "Powtarzają się różnego rodzaju liczby. Może zamiana na słowo \"liczba\", \"wartość\" czy \"rok\" byłaby odpowiednia? <br>"
   ]
  },
  {
   "cell_type": "code",
   "execution_count": 497,
   "metadata": {
    "scrolled": true
   },
   "outputs": [
    {
     "data": {
      "text/plain": [
       "[('illog', 1),\n",
       " ('democraci', 1),\n",
       " ('deutschen', 1),\n",
       " ('nazi', 1),\n",
       " ('accuss', 1),\n",
       " ('betray', 1),\n",
       " ('polic', 1),\n",
       " ('clear', 1),\n",
       " ('strong', 1),\n",
       " ('washington', 1),\n",
       " ('aug', 1),\n",
       " ('26', 1),\n",
       " ('barack', 1),\n",
       " ('voic', 1),\n",
       " ('conduct', 1),\n",
       " ('dnr', 1),\n",
       " ('lnr', 1),\n",
       " ('minsk', 1),\n",
       " ('agreement', 1),\n",
       " ('@paulaedwy', 1),\n",
       " ('tat', 1),\n",
       " ('azerbaijan', 1),\n",
       " ('youngish', 1),\n",
       " ('abe', 1),\n",
       " (\"'they\", 1),\n",
       " ('fellow', 1),\n",
       " ('stanc', 1),\n",
       " ('canadian', 1),\n",
       " ('zone', 1),\n",
       " ('reform', 1),\n",
       " ('#foxreg', 1),\n",
       " ('#thearkoftwitt', 1),\n",
       " ('800,000', 1),\n",
       " ('immigrants.that', 1),\n",
       " ('april.now', 1),\n",
       " ('digniti', 1),\n",
       " ('stood', 1),\n",
       " ('@ajweald', 1),\n",
       " ('telegraph', 1),\n",
       " ('passport', 1),\n",
       " ('admitt', 1),\n",
       " ('principl', 1),\n",
       " ('movement', 1),\n",
       " ('#googlealert', 1),\n",
       " ('btw', 1),\n",
       " ('biographi', 1),\n",
       " ('predecessor', 1),\n",
       " ('gerhard', 1),\n",
       " ('schroeder', 1),\n",
       " ('22', 1),\n",
       " ('@bild', 1),\n",
       " ('@telegraph', 1),\n",
       " ('prayer', 1),\n",
       " ('hungari', 1),\n",
       " ('budapest', 1),\n",
       " ('our.fath', 1),\n",
       " ('merkel.thank', 1),\n",
       " ('catalonia', 1),\n",
       " ('reappli', 1),\n",
       " ('seced', 1),\n",
       " ('spain', 1),\n",
       " ('#snp', 1),\n",
       " ('@kthopkin', 1),\n",
       " ('favour', 1),\n",
       " ('sink', 1),\n",
       " ('gunboat', 1),\n",
       " ('colour', 1),\n",
       " ('sweden', 1),\n",
       " ('exampl', 1),\n",
       " ('@smith_rfkennedi', 1),\n",
       " ('@nishelo', 1),\n",
       " ('nobodi', 1),\n",
       " ('ran', 1),\n",
       " ('#exodu', 1),\n",
       " ('#migrantmarch', 1),\n",
       " ('#migrantcrisi', 1),\n",
       " ('whole', 1),\n",
       " ('must', 1),\n",
       " ('@newsfusionapp', 1),\n",
       " ('#world', 1),\n",
       " ('#news)', 1),\n",
       " ('graduat', 1),\n",
       " ('humanitarian', 1),\n",
       " ('citizen', 1),\n",
       " ('concern', 1),\n",
       " ('critic', 1),\n",
       " ('action', 1),\n",
       " ('xenophob', 1),\n",
       " ('rare', 1),\n",
       " ('shown', 1),\n",
       " ('inclin', 1),\n",
       " ('bold', 1),\n",
       " ('#refugeeswelcom', 1),\n",
       " ('restor', 1),\n",
       " ('piti', 1),\n",
       " ('@reaganitegop', 1),\n",
       " ('@freedomoffreedo', 1),\n",
       " ('organis', 1),\n",
       " ('invas', 1),\n",
       " ('columnista', 1)]"
      ]
     },
     "execution_count": 497,
     "metadata": {},
     "output_type": "execute_result"
    }
   ],
   "source": [
    "words.most_common()[-100:]"
   ]
  },
  {
   "cell_type": "markdown",
   "metadata": {},
   "source": [
    "Na tym etapie w zmiennej `words` mamy wstępnie przygotowany słownik. Jak widać słownik możnaby jeszcze ulepszyć, ale w tym ćwiczeniu poprzestaniemy na tym co do tej pory zrobiliśmy."
   ]
  },
  {
   "cell_type": "markdown",
   "metadata": {},
   "source": [
    "## Klasyfikacja"
   ]
  },
  {
   "cell_type": "markdown",
   "metadata": {},
   "source": [
    "Mając słownik zamienimy przykłady uczące na reprezentację bag of words (BOW). W tej reprezentacji każdy przykład uczący (pojedynczy dokument tekstowy) przyjmuje formę wektora liczb. Każda pozycja w wektorze oznacza kolejne słowo ze słownika, a liczba na danej pozycji mówi czy (0-1) lub jak często (0-k) dane słowo występuje w tekście. Taka reprezentacja wektorowa ma tę zaletę, że można ją łatwo rozszerzać o dodatkowe atrybuty.\n",
    "\n",
    "**Zad. 9: Przeanalizuj poniższy kod tworzący reprezentację bag-of-words. Co to jest `csr_matrix`? Czy wykorzystanie tej klasy jest konieczne?**<br>\n",
    "`csr_matrix` jest strukturą z biblioteki `scipy` reprezentującym rzadką macierz. Jej wykorzystanie nie jest konieczne jednak jest ona efektywna pamięciowo. Macierz rzadka charekteryzuje się tym, że w większości komórek występują zera. `csr_matrix` jest skonstruowana tak, aby przechowywać tylko wartości niezerowe, co pozwala na zaoszczędzeniu bardzo dużej ilości pamięci."
   ]
  },
  {
   "cell_type": "code",
   "execution_count": 498,
   "metadata": {},
   "outputs": [],
   "source": [
    "def create_bow(documents, features):\n",
    "    row = []\n",
    "    col = []\n",
    "    data = []\n",
    "\n",
    "    labels = []\n",
    "\n",
    "    for i in documents.index:\n",
    "        tweet = BeforeTokenizationNormalizer.normalize(documents.iloc[i, 2])\n",
    "        label = documents.iloc[i, 1]\n",
    "        tweet_tokens = TweetTokenizer.tokenize(tweet)\n",
    "\n",
    "        labels.append(label)\n",
    "        for token in set(tweet_tokens):\n",
    "            if token not in features:\n",
    "                continue\n",
    "            row.append(i)\n",
    "            col.append(features[token])\n",
    "            data.append(1)\n",
    "    return csr_matrix((data, (row, col)), shape=(len(documents), len(features))), labels"
   ]
  },
  {
   "cell_type": "markdown",
   "metadata": {},
   "source": [
    "Na koniec wykorzystajmy dotychczasową wiedzę, żeby nauczyć i przetestować klasyfikator.\n",
    "\n",
    "**Zad. 10: Sprawdź działanie klasyfikatora Random Forest na przetworzonych wcześniej danych. Jak na trafność klasyfikacji wpływa parametr min_word_count?**<br>\n",
    "`min_word_count` decyduje, które słowa użyć do uczenia klasyfikatora. W tym przypadku wybieramy słowa, które występuja minimum `min_word_count` razy (niżej 5 razy). Im niższa wartość tym lepiej klasyfikuje przypadki pozytywne kosztem negatywnych."
   ]
  },
  {
   "cell_type": "code",
   "execution_count": 499,
   "metadata": {
    "collapsed": false,
    "jupyter": {
     "outputs_hidden": false
    }
   },
   "outputs": [
    {
     "name": "stdout",
     "output_type": "stream",
     "text": [
      "Training classifier...\n",
      "Testing...\n",
      "=================== Results ===================\n",
      "            Positive    Neutral     Negative   \n",
      "F1        [0.69624573 0.20408163 0.02941176]\n",
      "Precision [0.60714286 0.14705882 0.33333333]\n",
      "Recall    [0.816      0.33333333 0.01538462]\n"
     ]
    }
   ],
   "source": [
    "from scipy.sparse import csr_matrix\n",
    "from sklearn.ensemble import RandomForestClassifier\n",
    "from sklearn.metrics import f1_score, precision_score, recall_score\n",
    "\n",
    "min_word_count = 5\n",
    "\n",
    "train_tweets = pd.read_csv(\"tweets_train.tsv\", sep=\"\\t\", header=None)\n",
    "test_tweets = pd.read_csv(\"tweets_test.tsv\", sep=\"\\t\", header=None)\n",
    "common_words = list([k for k, v in words.most_common() if v > min_word_count])\n",
    "\n",
    "feature_dict = {}\n",
    "for word in common_words:\n",
    "    feature_dict[word] = len(feature_dict)\n",
    "\n",
    "print(\"Training classifier...\")\n",
    "X_train, y_train = create_bow(train_tweets, feature_dict)\n",
    "list_of_labels = list(set(y_train))\n",
    "classifier = RandomForestClassifier(n_estimators=300, n_jobs=-1, random_state=23)\n",
    "classifier.fit(X_train, y_train)\n",
    "\n",
    "print(\"Testing...\")\n",
    "test_tweets = pd.read_csv(\"tweets_test.tsv\", sep=\"\\t\", header=None)\n",
    "X_test, y_test = create_bow(test_tweets, feature_dict)\n",
    "predicted = classifier.predict(X_test)\n",
    "\n",
    "print(\"=================== Results ===================\")\n",
    "print(\"            Positive    Neutral     Negative   \")\n",
    "print(\"F1       \", f1_score(y_test, predicted, average=None, pos_label=None, labels=list_of_labels))\n",
    "print(\"Precision\", precision_score(y_test, predicted, average=None, pos_label=None, labels=list_of_labels))\n",
    "print(\"Recall   \", recall_score(y_test, predicted, average=None, pos_label=None, labels=list_of_labels))"
   ]
  }
 ],
 "metadata": {
  "anaconda-cloud": {},
  "kernelspec": {
   "display_name": "Python 3",
   "language": "python",
   "name": "python3"
  },
  "language_info": {
   "codemirror_mode": {
    "name": "ipython",
    "version": 3
   },
   "file_extension": ".py",
   "mimetype": "text/x-python",
   "name": "python",
   "nbconvert_exporter": "python",
   "pygments_lexer": "ipython3",
   "version": "3.8.5"
  }
 },
 "nbformat": 4,
 "nbformat_minor": 4
}
